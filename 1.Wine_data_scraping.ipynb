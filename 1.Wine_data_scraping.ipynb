{
 "cells": [
  {
   "cell_type": "code",
   "execution_count": 1,
   "metadata": {
    "id": "ze0fwNkm-Bsq"
   },
   "outputs": [],
   "source": [
    "import requests \n",
    "from bs4 import BeautifulSoup \n",
    "import lxml\n",
    "import numpy as np\n",
    "import pandas as pd\n",
    "import time"
   ]
  },
  {
   "cell_type": "code",
   "execution_count": 6,
   "metadata": {
    "id": "kbduWiUS_BLI"
   },
   "outputs": [],
   "source": [
    "result = []\n",
    "\n",
    "for i in range(1):\n",
    "    url = requests.get(f\"https://www.wine.com/list/wine/7155/{i}?sortBy=wineryAToZ\")\n",
    "    soup = BeautifulSoup(url.text, \"lxml\")\n",
    "    m = soup.find_all(class_=\"prodItemImage_link event_productClick\") \n",
    "    res=[f\"https://www.wine.com/product{j['href']}\" for j in m]\n",
    "    result.extend(res)\n"
   ]
  },
  {
   "cell_type": "code",
   "execution_count": null,
   "metadata": {
    "id": "ehp9lTZ0-N8N"
   },
   "outputs": [],
   "source": [
    "ratings= []\n",
    "prices= []\n",
    "names = []\n",
    "countrys = []\n",
    "ABV = []\n",
    "ratings_num = []\n",
    "wine_colours=[]\n",
    "rates = []\n",
    "ml = []\n",
    "err = 0\n",
    "for i in result:\n",
    "    try:\n",
    "        url = requests.get(i)\n",
    "        soup = BeautifulSoup(url.text, \"lxml\")\n",
    "        rating = soup.find(class_=\"averageRating_average\")\n",
    "        ratings.append(rating.text)\n",
    "        price = soup.find(class_=\"productPrice_price-regWhole\")\n",
    "        price_ = soup.find(class_=\"productPrice_price-saleFractional\")\n",
    "        prices.append(price.text+'.'+price_.text+'$')\n",
    "        name = soup.find(class_=\"pipName\")\n",
    "        names.append(name.text)\n",
    "        country = soup.find(class_=\"pipOrigin\")\n",
    "        countrys.append(country.text)\n",
    "        percentage = soup.find(class_=\"prodAlcoholPercent_percent\")\n",
    "        ABV.append(percentage.text)\n",
    "        r_num = soup.find(class_=\"averageRating_number\")\n",
    "        ratings_num.append(r_num.text)\n",
    "        wine_colour = soup.find('ul', class_=\"prodAttr\").find('li', class_=\"icon\")\n",
    "        try:\n",
    "            wine_colours.append(wine_colour['title'])\n",
    "        except:\n",
    "            wine_colours.append(0)\n",
    "        ml_ = soup.find(\"div\", class_=\"prodAlcoholPercent\").find('span', class_=\"prodAlcoholVolume_text\")\n",
    "        ml.append(ml_.text)\n",
    "        ratee = soup.find('ul', class_=\"wineRatings_list\").find_all(class_=\"wineRatings_listItem\")\n",
    "        rate = len(ratee)\n",
    "        res = ''\n",
    "        if rate == 0:\n",
    "            res += '0'\n",
    "        for i in range(rate):\n",
    "            if rate > 0:\n",
    "                res += ratee[i].find(class_=\"wineRatings_initials\").text\n",
    "            if rate > 0 and i < rate - 1:\n",
    "                res += ', '\n",
    "        rates.append(res)\n",
    "    except:\n",
    "        err += 1\n",
    "        continue  \n",
    "  "
   ]
  },
  {
   "cell_type": "code",
   "execution_count": null,
   "metadata": {},
   "outputs": [],
   "source": [
    "print(len(ratings))\n",
    "print(len(prices))\n",
    "print(len(names))\n",
    "print(len(countrys))\n",
    "print(len(ABV)) \n",
    "print(len(ratings_num))\n",
    "print(len(wine_colours))\n",
    "print(xato)"
   ]
  },
  {
   "cell_type": "code",
   "execution_count": null,
   "metadata": {
    "id": "0JbW6L1pIIB_"
   },
   "outputs": [],
   "source": [
    "wine_data = {'Names': names, \"color_wine\":wine_colours, 'Prices': prices , 'ML': ml , \"Ratings\": ratings,\"Ratingsnum\":ratings_num ,\"Countrys\":countrys,\"ABV %\":ABV,'rates':rates}\n",
    "df = pd.DataFrame(data=wine_data)\n",
    "df['Names'] = df['Names'].str.strip()\n",
    "df[\"Countrys\"] = df[\"Countrys\"].replace({'\\n':''},regex=True)"
   ]
  },
  {
   "cell_type": "code",
   "execution_count": null,
   "metadata": {},
   "outputs": [],
   "source": [
    "df.head()"
   ]
  },
  {
   "cell_type": "code",
   "execution_count": null,
   "metadata": {
    "id": "mcc-BkQxMzYf"
   },
   "outputs": [],
   "source": [
    "df.to_csv(\"Wine_data_scr.csv\", index=False)"
   ]
  }
 ],
 "metadata": {
  "colab": {
   "collapsed_sections": [],
   "provenance": []
  },
  "kernelspec": {
   "display_name": "Python 3 (ipykernel)",
   "language": "python",
   "name": "python3"
  },
  "language_info": {
   "codemirror_mode": {
    "name": "ipython",
    "version": 3
   },
   "file_extension": ".py",
   "mimetype": "text/x-python",
   "name": "python",
   "nbconvert_exporter": "python",
   "pygments_lexer": "ipython3",
   "version": "3.10.4"
  }
 },
 "nbformat": 4,
 "nbformat_minor": 1
}
